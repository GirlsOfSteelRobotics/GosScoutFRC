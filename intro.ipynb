{
 "cells": [
  {
   "cell_type": "code",
   "execution_count": null,
   "id": "3ad69d44-11fa-43ae-b7f3-62a2dca8cfd4",
   "metadata": {},
   "outputs": [],
   "source": [
    "# This is a jupyter call that allows us to edit scripts and have them automatically reloaded into the notebook\n",
    "%load_ext autoreload\n",
    "%autoreload 2\n",
    "\n",
    "# Import common things\n",
    "import pandas as pd\n",
    "import plotly.express as px\n",
    "\n",
    "# Tell pandas that we want to see ALL the data\n",
    "pd.set_option(\"display.max_columns\", None)\n",
    "pd.set_option(\"display.max_rows\", None)"
   ]
  },
  {
   "cell_type": "code",
   "execution_count": null,
   "id": "f0541425-3f4b-4e07-b041-9b9431d00d47",
   "metadata": {},
   "outputs": [],
   "source": [
    "# This loads all the data that we care about into the data_container variable\n",
    "from y2024.data_container import DataContainer\n",
    "from y2024.settings import EVENT\n",
    "\n",
    "data_container = DataContainer(EVENT)"
   ]
  },
  {
   "cell_type": "code",
   "execution_count": null,
   "id": "d1bee11b-6996-47f8-842f-4df4b65624d0",
   "metadata": {},
   "outputs": [],
   "source": [
    "# View the scouted data\n",
    "data_container.scouted_data"
   ]
  },
  {
   "cell_type": "code",
   "execution_count": null,
   "id": "e2b3c847-08ea-4496-9560-cc3a8d7f0421",
   "metadata": {},
   "outputs": [],
   "source": [
    "# View statbotics data\n",
    "data_container.statbotics_matches"
   ]
  },
  {
   "cell_type": "code",
   "execution_count": null,
   "id": "77dd6662-a468-4030-b1cf-ab4875ff7645",
   "metadata": {},
   "outputs": [],
   "source": [
    "# View Blue Alliance data\n",
    "data_container.tba_matches"
   ]
  },
  {
   "cell_type": "code",
   "execution_count": null,
   "id": "1296fe17-8e0b-4c8a-b723-5c81242cf4c8",
   "metadata": {},
   "outputs": [],
   "source": [
    "# List the keys for all of the dataframes\n",
    "print(\"*\" * 80)\n",
    "print(\"SCOUTED KEYS:\")\n",
    "print(list(data_container.scouted_data.keys()))\n",
    "print(\"*\" * 80)\n",
    "\n",
    "print(\"*\" * 80)\n",
    "print(\"STATBOTICS KEYS:\")\n",
    "print(list(data_container.statbotics_matches.keys()))\n",
    "print(\"*\" * 80)\n",
    "\n",
    "print(\"*\" * 80)\n",
    "print(\"TBA KEYS:\")\n",
    "print(list(data_container.tba_matches.keys()))\n",
    "print(\"*\" * 80)"
   ]
  },
  {
   "cell_type": "code",
   "execution_count": null,
   "id": "4b957271-298f-4641-b86c-9d187cdf378b",
   "metadata": {},
   "outputs": [],
   "source": [
    "# We can query any of the dataframes to pull out info like \"Give me all the scouted data for a team\"\n",
    "\n",
    "team_data = data_container.scouted_data[\n",
    "    data_container.scouted_data[\"Team_Number\"] == 1787\n",
    "]\n",
    "team_data"
   ]
  },
  {
   "cell_type": "code",
   "execution_count": null,
   "id": "01fafba1-58aa-4d74-9630-8d57f06dcaac",
   "metadata": {},
   "outputs": [],
   "source": [
    "# We can use plotly to create plots for the data\n",
    "\n",
    "px.bar(team_data, x=\"Match_Number\", y=[\"auto_speaker_scored\", \"tele_speaker_scored\"])"
   ]
  },
  {
   "cell_type": "code",
   "execution_count": null,
   "id": "b8d5a20c-707c-4f83-8d46-19a108fd060c",
   "metadata": {},
   "outputs": [],
   "source": [
    "# We can also do statistical analysis on the data, like asking for an sum\n",
    "team_data.sum(numeric_only=True)"
   ]
  },
  {
   "cell_type": "code",
   "execution_count": null,
   "id": "8c72155e-4cf7-4b1f-bbe8-ba07eb8c2769",
   "metadata": {},
   "outputs": [],
   "source": [
    "# We can also group data by one of the fields and get cumulative stats. For instance, team averages calculated on one line\n",
    "all_averages = data_container.scouted_data.groupby(\"Team_Number\").mean(\n",
    "    numeric_only=True\n",
    ")\n",
    "all_averages"
   ]
  },
  {
   "cell_type": "code",
   "execution_count": null,
   "id": "4786684c-09c1-4bb6-ab3f-904bd6eb06e3",
   "metadata": {},
   "outputs": [],
   "source": []
  }
 ],
 "metadata": {
  "kernelspec": {
   "display_name": "Python 3 (ipykernel)",
   "language": "python",
   "name": "python3"
  },
  "language_info": {
   "codemirror_mode": {
    "name": "ipython",
    "version": 3
   },
   "file_extension": ".py",
   "mimetype": "text/x-python",
   "name": "python",
   "nbconvert_exporter": "python",
   "pygments_lexer": "ipython3",
   "version": "3.10.11"
  }
 },
 "nbformat": 4,
 "nbformat_minor": 5
}
