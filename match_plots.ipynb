{
 "cells": [
  {
   "cell_type": "code",
   "execution_count": null,
   "id": "8d5444f0-0a54-4bb5-9427-23c2cb2ee0b1",
   "metadata": {},
   "outputs": [],
   "source": [
    "# This is a jupyter call that allows us to edit scripts and have them automatically reloaded into the notebook\n",
    "%load_ext autoreload\n",
    "%autoreload 2\n",
    "\n",
    "# Import common things\n",
    "import pandas as pd\n",
    "import plotly.express as px\n",
    "\n",
    "# Tell pandas that we want to see ALL the data\n",
    "pd.set_option(\"display.max_columns\", None)\n",
    "pd.set_option(\"display.max_rows\", None)"
   ]
  },
  {
   "cell_type": "code",
   "execution_count": null,
   "id": "3039595e-11e1-42da-a9ac-1e3f33c79899",
   "metadata": {},
   "outputs": [],
   "source": [
    "# This loads all the data that we care about into the data_container variable\n",
    "from y2024.data_container import DataContainer\n",
    "from utils.statbotics_utils import get_blue_teams_in_match, get_red_teams_in_match\n",
    "from y2024.settings import EVENT\n",
    "\n",
    "data_container = DataContainer(EVENT)"
   ]
  },
  {
   "cell_type": "code",
   "execution_count": null,
   "id": "903eabfa-b579-4927-8feb-d5af6cfb9160",
   "metadata": {},
   "outputs": [],
   "source": [
    "all_averages = (\n",
    "    data_container.scouted_data.groupby(\"Team_Number\")\n",
    "    .mean(numeric_only=True)\n",
    "    .reset_index()\n",
    ")\n",
    "# print(all_averages)\n",
    "\n",
    "statbotics_match6 = data_container.statbotics_matches[\n",
    "    data_container.statbotics_matches[\"match_number\"] == 6\n",
    "]\n",
    "\n",
    "red_teams = get_red_teams_in_match(statbotics_match6)\n",
    "red_data = all_averages[all_averages[\"Team_Number\"].isin(red_teams)]\n",
    "red_data.insert(1, \"index\", [1, 2, 3])\n",
    "red_data.insert(\n",
    "    2, \"team num fr\", [str(red_teams[0]), str(red_teams[1]), str(red_teams[2])]\n",
    ")\n",
    "\n",
    "blue_teams = get_blue_teams_in_match(statbotics_match6)\n",
    "blue_data = all_averages[all_averages[\"Team_Number\"].isin(blue_teams)]\n",
    "red_data"
   ]
  },
  {
   "cell_type": "code",
   "execution_count": null,
   "id": "e4d29db1-1987-40e6-8cc2-81acdd613174",
   "metadata": {},
   "outputs": [],
   "source": [
    "px.bar(\n",
    "    red_data,\n",
    "    x=\"team num fr\",\n",
    "    y=[\n",
    "        \"tele_speaker_scored\",\n",
    "        \"tele_amp_scored\",\n",
    "        \"auto_speaker_scored\",\n",
    "        \"auto_amp_Scored\",\n",
    "    ],\n",
    "    title=\"red harmony contribution\",\n",
    "    labels={\"value\": \"notes\", \"team num fr\": \"team number\"},\n",
    ")"
   ]
  },
  {
   "cell_type": "code",
   "execution_count": null,
   "id": "49ae6a71-4bbb-4a3a-bf55-7cebd2b4fe2c",
   "metadata": {},
   "outputs": [],
   "source": [
    "px.bar(\n",
    "    blue_data,\n",
    "    y=[\n",
    "        \"tele_speaker_scored\",\n",
    "        \"tele_amp_scored\",\n",
    "        \"auto_speaker_scored\",\n",
    "        \"auto_amp_Scored\",\n",
    "    ],\n",
    "    title=\"blue\",\n",
    ")"
   ]
  },
  {
   "cell_type": "code",
   "execution_count": null,
   "id": "fa28dc4b-558b-4404-ad25-71d9ca8805d2",
   "metadata": {},
   "outputs": [],
   "source": [
    "red_data[\"total notes\"] = (\n",
    "    red_data[\"tele_amp_scored\"]\n",
    "    + red_data[\"tele_speaker_scored\"]\n",
    "    + red_data[\"auto_amp_Scored\"]\n",
    "    + red_data[\"auto_speaker_scored\"]\n",
    ")\n",
    "\n",
    "red_data[\"scouted score\"] = (\n",
    "    (red_data[\"tele_speaker_scored\"] - red_data[\"tele_amp_scored\"]) * 2\n",
    "    + red_data[\"tele_amp_scored\"] * 5\n",
    "    + red_data[\"auto_amp_Scored\"]\n",
    "    + red_data[\"auto_speaker_scored\"]\n",
    ")"
   ]
  },
  {
   "cell_type": "code",
   "execution_count": null,
   "id": "4d5ac96f-b111-4b0c-af58-0c5e61086607",
   "metadata": {},
   "outputs": [],
   "source": [
    "red_data"
   ]
  },
  {
   "cell_type": "code",
   "execution_count": null,
   "id": "261edf87-bb37-4b3d-ad83-c626dbac6985",
   "metadata": {},
   "outputs": [],
   "source": [
    "px.scatter(\n",
    "    red_data,\n",
    "    x=\"total notes\",\n",
    "    y=\"scouted score\",\n",
    "    text=red_data[\"Team_Number\"],\n",
    "    hover_name=red_data[\"Team_Number\"],\n",
    ")"
   ]
  },
  {
   "cell_type": "code",
   "execution_count": null,
   "id": "5ee7706d-c4c6-43ae-8045-7ac3c21d7dea",
   "metadata": {},
   "outputs": [],
   "source": [
    "red_data"
   ]
  },
  {
   "cell_type": "code",
   "execution_count": null,
   "id": "d8bcbea7-a1de-47f5-b616-780e30672b6d",
   "metadata": {},
   "outputs": [],
   "source": [
    "tba = data_container.tba_matches\n",
    "\n",
    "import collections\n",
    "\n",
    "\n",
    "# print(list(tba.keys()))\n",
    "tba_len = len(tba.index)\n",
    "tba.reset_index()\n",
    "hangCount = collections.defaultdict(int)\n",
    "parkCount = collections.defaultdict(int)\n",
    "for team in red_teams:\n",
    "    for row in range(tba_len):\n",
    "        r1_loc = tba[\"score_breakdown.red.endGameRobot1\"].values[row]\n",
    "        r2_loc = tba[\"score_breakdown.red.endGameRobot2\"].values[row]\n",
    "        r3_loc = tba[\"score_breakdown.red.endGameRobot3\"].values[row]\n",
    "        r1 = int(tba[\"red1\"].values[row][3:])\n",
    "        r2 = int(tba[\"red2\"].values[row][3:])\n",
    "        r3 = int(tba[\"red3\"].values[row][3:])\n",
    "        b1_loc = tba[\"score_breakdown.blue.endGameRobot1\"].values[row]\n",
    "        b2_loc = tba[\"score_breakdown.blue.endGameRobot2\"].values[row]\n",
    "        b3_loc = tba[\"score_breakdown.blue.endGameRobot3\"].values[row]\n",
    "        b1 = int(tba[\"blue1\"].values[row][3:])\n",
    "        b2 = int(tba[\"blue2\"].values[row][3:])\n",
    "        b3 = int(tba[\"blue3\"].values[row][3:])\n",
    "        actual_loc = None\n",
    "        if r1 == team:\n",
    "            actual_loc = r1_loc\n",
    "        if r2 == team:\n",
    "            actual_loc = r2_loc\n",
    "        if r3 == team:\n",
    "            actual_loc = r3_loc\n",
    "        if b1 == team:\n",
    "            actual_loc = b1_loc\n",
    "        if b2 == team:\n",
    "            actual_loc = b2_loc\n",
    "        if b3 == team:\n",
    "            actual_loc = b3_loc\n",
    "\n",
    "        if (\n",
    "            actual_loc == \"CenterStage\"\n",
    "            or actual_loc == \"StageRight\"\n",
    "            or actual_loc == \"StageLeft\"\n",
    "        ):\n",
    "            hangCount[team] += 1\n",
    "        if actual_loc == \"Parked\":\n",
    "            parkCount[team] += 1\n",
    "\n",
    "print(hangCount)\n",
    "print(parkCount)\n",
    "\n",
    "as_dataframe = pd.DataFrame(hangCount.items(), columns=[\"Team Number\", \"Hang Count\"])\n",
    "as_dataframe[\"Park Count\"] = pd.Series(parkCount.values())\n",
    "as_dataframe.insert(2, \"team num fr\", [str(x) for x in as_dataframe[\"Team Number\"]])\n",
    "\n",
    "print(as_dataframe)\n",
    "\n",
    "px.bar(\n",
    "    as_dataframe,\n",
    "    x=\"team num fr\",\n",
    "    y=[\"Hang Count\", \"Park Count\"],\n",
    "    title=\"red harmony contribution\",\n",
    "    labels={\"value\": \"count\", \"team num fr\": \"Team Number\"},\n",
    ")"
   ]
  },
  {
   "cell_type": "code",
   "execution_count": null,
   "id": "051f4601-ae07-4c54-b8fd-a40af48fd084",
   "metadata": {},
   "outputs": [],
   "source": [
    "import collections\n",
    "\n",
    "my_dict = collections.defaultdict(int)\n",
    "\n",
    "my_dict[\"Sienna\"] = 0\n",
    "my_dict[\"PJ\"] = 1\n",
    "\n",
    "my_dict[\"Someboyd\"] += 1\n",
    "\n",
    "print(my_dict)\n",
    "\n",
    "my_dict[\"PJ\"] += 1\n",
    "print(my_dict)"
   ]
  },
  {
   "cell_type": "code",
   "execution_count": null,
   "id": "0be5d097-5555-4960-bcaa-5a2c29b5de3c",
   "metadata": {},
   "outputs": [],
   "source": [
    "tba"
   ]
  },
  {
   "cell_type": "code",
   "execution_count": null,
   "id": "da0c6367-e1f6-4828-8e3b-64228afc7f31",
   "metadata": {},
   "outputs": [],
   "source": []
  }
 ],
 "metadata": {
  "kernelspec": {
   "display_name": "Python 3 (ipykernel)",
   "language": "python",
   "name": "python3"
  },
  "language_info": {
   "codemirror_mode": {
    "name": "ipython",
    "version": 3
   },
   "file_extension": ".py",
   "mimetype": "text/x-python",
   "name": "python",
   "nbconvert_exporter": "python",
   "pygments_lexer": "ipython3",
   "version": "3.10.3"
  }
 },
 "nbformat": 4,
 "nbformat_minor": 5
}
